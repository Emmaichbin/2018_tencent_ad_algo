{
 "cells": [
  {
   "cell_type": "code",
   "execution_count": null,
   "metadata": {
    "collapsed": true
   },
   "outputs": [],
   "source": [
    "col_new = ['ratio_click_of_aid_in_uid',\n",
    " 'ratio_click_of_creativeSize_in_uid',\n",
    " 'ratio_click_of_age_in_aid',\n",
    " 'ratio_click_of_age_in_creativeSize',\n",
    " 'ratio_click_of_gender_in_advertiserId',\n",
    " 'ratio_click_of_gender_in_creativeSize',\n",
    " 'ratio_click_of_consumptionAbility_in_aid',\n",
    " 'ratio_click_of_age_in_advertiserId',\n",
    " 'ratio_click_of_productType_in_uid',\n",
    " 'ratio_click_of_productType_in_consumptionAbility',\n",
    " 'ratio_click_of_productType_in_age',\n",
    " 'ratio_click_of_gender_in_consumptionAbility',\n",
    " 'ratio_click_of_creativeSize_in_age',\n",
    " 'ratio_click_of_gender_in_aid',\n",
    " 'ratio_click_of_creativeSize_in_productType',\n",
    " 'ratio_click_of_house_in_campaignId',\n",
    " 'ratio_click_of_house_in_creativeSize',\n",
    " 'ratio_click_of_aid_in_creativeSize',\n",
    " 'ratio_click_of_productId_in_uid',\n",
    " 'ratio_click_of_os_in_advertiserId',\n",
    " 'ratio_click_of_adCategoryId_in_uid',\n",
    " 'ratio_click_of_productType_in_creativeSize',\n",
    " 'ratio_click_of_productType_in_os',\n",
    " 'ratio_click_of_productType_in_education',\n",
    " 'ratio_click_of_advertiserId_in_uid',\n",
    " 'ratio_click_of_gender_in_productId',\n",
    " 'ratio_click_of_consumptionAbility_in_age',\n",
    " 'ratio_click_of_adCategoryId_in_creativeSize',\n",
    " 'ratio_click_of_creativeSize_in_education',\n",
    " 'ratio_click_of_campaignId_in_uid',\n",
    " 'ratio_click_of_consumptionAbility_in_advertiserId']\n",
    "import pandas as pd\n",
    "import lightgbm as lgb\n",
    "from sklearn.model_selection import train_test_split\n",
    "from sklearn.feature_extraction.text import CountVectorizer\n",
    "from sklearn.preprocessing import OneHotEncoder,LabelEncoder\n",
    "from scipy import sparse\n",
    "import os\n",
    "import numpy as np\n",
    "import time\n",
    "import random\n",
    "import warnings\n",
    "warnings.filterwarnings(\"ignore\")\n",
    "##读取数据\n",
    "print(\"Reading...\")\n",
    "data = pd.read_csv('train_test_merge.csv')\n",
    "print('Index...')\n",
    "train_part_index = list(data[(data['label']!=-1)&(data['n_parts']!=1)].index)\n",
    "evals_index = list(data[(data['label']!=-1)&(data['n_parts']==1)].index)\n",
    "test1_index = list(data[data['n_parts']==6].index)\n",
    "test2_index = list(data[data['n_parts']==7].index)\n",
    "print('LabelEncoder...')\n",
    "label_feature=['aid','uid', 'advertiserId', 'campaignId', 'creativeId',\n",
    "       'creativeSize', 'adCategoryId', 'productId', 'productType', 'age',\n",
    "       'gender','education', 'consumptionAbility', 'LBS',\n",
    "       'os', 'carrier', 'house']\n",
    "data = data[label_feature]\n",
    "for feature in label_feature:\n",
    "    s = time.time()\n",
    "    try:\n",
    "        data[feature] = LabelEncoder().fit_transform(data[feature].apply(int))\n",
    "    except:\n",
    "        data[feature] = LabelEncoder().fit_transform(data[feature])\n",
    "    print(feature,int(time.time()-s),'s')\n",
    "print('Done')\n",
    "\n",
    "\n",
    "df_feature = pd.DataFrame()\n",
    "data['cnt']=1\n",
    "num = 0\n",
    "print('Ratio clcik...')\n",
    "n = len(col_type)\n",
    "for i in range(n):\n",
    "    col_name = \"ratio_click_of_\"+col_type[i]\n",
    "    if col_name in col_new:\n",
    "        s = time.time()\n",
    "        df_feature[col_name] =(data[col_type[i]].map(data[col_type[i]].value_counts())/len(data)*100).astype(int)\n",
    "        num+=1\n",
    "        print(num,col_name,int(time.time()-s),'s')\n",
    "n = len(col_type)\n",
    "for i in range(n):\n",
    "    for j in range(n):\n",
    "        if i!=j:\n",
    "            col_name = \"ratio_click_of_\"+col_type[j]+\"_in_\"+col_type[i]\n",
    "            if col_name in col_new:\n",
    "                s = time.time()\n",
    "                se = data.groupby([col_type[i],col_type[j]])['cnt'].sum()\n",
    "                dt = data[[col_type[i],col_type[j]]]\n",
    "                cnt = data[col_type[i]].map(data[col_type[i]].value_counts())\n",
    "                df_feature[col_name] = ((pd.merge(dt,se.reset_index(),how='left',on=[col_type[i],col_type[j]]).sort_index()['cnt'].fillna(value=0)/cnt)*100).astype(int).values\n",
    "                num+=1\n",
    "                print(num,col_name,int(time.time()-s),'s')\n",
    "print('Saving...')\n",
    "print('train_part...')\n",
    "df_feature.loc[train_part_index].to_csv('train_part_x_ratio.csv',index=False)\n",
    "print('evals...')\n",
    "df_feature.loc[evals_index].to_csv('evals_x_ratio.csv',index=False)\n",
    "print('test1...')\n",
    "df_feature.loc[test1_index].to_csv('test1_x_ratio.csv',index=False)\n",
    "print('test2...')\n",
    "df_feature.loc[test2_index].to_csv('test2_x_ratio.csv',index=False)\n",
    "print('Over')"
   ]
  },
  {
   "cell_type": "code",
   "execution_count": null,
   "metadata": {
    "collapsed": true
   },
   "outputs": [],
   "source": []
  },
  {
   "cell_type": "code",
   "execution_count": 13,
   "metadata": {
    "collapsed": false
   },
   "outputs": [
    {
     "data": {
      "text/plain": [
       "153.0"
      ]
     },
     "execution_count": 13,
     "metadata": {},
     "output_type": "execute_result"
    }
   ],
   "source": [
    "17*16/2+17"
   ]
  },
  {
   "cell_type": "code",
   "execution_count": null,
   "metadata": {
    "collapsed": true
   },
   "outputs": [],
   "source": []
  }
 ],
 "metadata": {
  "kernelspec": {
   "display_name": "Python [default]",
   "language": "python",
   "name": "python3"
  },
  "language_info": {
   "codemirror_mode": {
    "name": "ipython",
    "version": 3
   },
   "file_extension": ".py",
   "mimetype": "text/x-python",
   "name": "python",
   "nbconvert_exporter": "python",
   "pygments_lexer": "ipython3",
   "version": "3.6.0"
  },
  "toc": {
   "base_numbering": 1,
   "nav_menu": {},
   "number_sections": true,
   "sideBar": true,
   "skip_h1_title": false,
   "title_cell": "Table of Contents",
   "title_sidebar": "Contents",
   "toc_cell": false,
   "toc_position": {},
   "toc_section_display": true,
   "toc_window_display": false
  }
 },
 "nbformat": 4,
 "nbformat_minor": 2
}
